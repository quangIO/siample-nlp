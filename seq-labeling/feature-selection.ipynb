{
 "cells": [
  {
   "cell_type": "code",
   "execution_count": 2,
   "metadata": {
    "collapsed": true,
    "pycharm": {
     "is_executing": false
    }
   },
   "outputs": [],
   "source": [
    "from nltk.stem.porter import PorterStemmer\n",
    "from typing import List\n",
    "import pandas as pd\n",
    "ps = PorterStemmer()"
   ]
  },
  {
   "cell_type": "code",
   "execution_count": 16,
   "outputs": [
    {
     "name": "stdout",
     "text": [
      "1979760\n",
      "(1979760, 3)\n"
     ],
     "output_type": "stream"
    },
    {
     "data": {
      "text/plain": "           token pos   bio\n1612458  British  JJ  I-NP",
      "text/html": "<div>\n<style scoped>\n    .dataframe tbody tr th:only-of-type {\n        vertical-align: middle;\n    }\n\n    .dataframe tbody tr th {\n        vertical-align: top;\n    }\n\n    .dataframe thead th {\n        text-align: right;\n    }\n</style>\n<table border=\"1\" class=\"dataframe\">\n  <thead>\n    <tr style=\"text-align: right;\">\n      <th></th>\n      <th>token</th>\n      <th>pos</th>\n      <th>bio</th>\n    </tr>\n  </thead>\n  <tbody>\n    <tr>\n      <th>1612458</th>\n      <td>British</td>\n      <td>JJ</td>\n      <td>I-NP</td>\n    </tr>\n  </tbody>\n</table>\n</div>"
     },
     "metadata": {},
     "output_type": "execute_result",
     "execution_count": 16
    }
   ],
   "source": [
    "def load_to_pandas(filename: str):\n",
    "    tokens = []\n",
    "    poses = []\n",
    "    bios = []\n",
    "    with open(filename, 'r') as f:\n",
    "        for line in f:\n",
    "            s: List[str] = line.split()\n",
    "            t, p, b = ('', '', '')\n",
    "            if len(s) == 3:\n",
    "                t, p, b = s\n",
    "            elif len(s) == 2:\n",
    "                t, p = s\n",
    "            tokens.append(t)\n",
    "            poses.append(p)\n",
    "            if filename.endswith('-chunk'):\n",
    "                bios.append(b)\n",
    "        print(len(bios))\n",
    "    return pd.DataFrame.from_dict({'token':tokens, 'pos':poses, 'bio':bios} if bios else {'token':tokens, 'pos':poses})\n",
    "\n",
    "PHASE = {\n",
    "    'training': {\n",
    "        'in_name': 'WSJ_02-21.pos-chunk',\n",
    "        'out_name': 'training.feature'\n",
    "    },\n",
    "    'development': {\n",
    "        'in_name': 'WSJ_24.pos',\n",
    "        'out_name': 'test.feature'\n",
    "    },\n",
    "    'test': {\n",
    "        'in_name': 'WSJ_23.pos',\n",
    "        'out_name': 'test-real.feature'\n",
    "    }\n",
    "}\n",
    "CURRENT_PHASE = 'training'\n",
    "training = load_to_pandas(PHASE[CURRENT_PHASE]['in_name'])\n",
    "print(training.shape)\n",
    "training.sample()"
   ],
   "metadata": {
    "collapsed": false,
    "pycharm": {
     "name": "#%%\n",
     "is_executing": false
    }
   }
  },
  {
   "cell_type": "code",
   "execution_count": 10,
   "outputs": [
    {
     "name": "stderr",
     "text": [
      "/home/quangio/PycharmProjects/nlpfa19/venv/lib/python3.7/site-packages/ipykernel_launcher.py:2: SettingWithCopyWarning: \n",
      "A value is trying to be set on a copy of a slice from a DataFrame.\n",
      "Try using .loc[row_indexer,col_indexer] = value instead\n",
      "\n",
      "See the caveats in the documentation: http://pandas.pydata.org/pandas-docs/stable/user_guide/indexing.html#returning-a-view-versus-a-copy\n",
      "  \n"
     ],
     "output_type": "stream"
    },
    {
     "data": {
      "text/plain": "     token pos stem\n0               NaN\n1      The  DT     \n2  economy  NN  the",
      "text/html": "<div>\n<style scoped>\n    .dataframe tbody tr th:only-of-type {\n        vertical-align: middle;\n    }\n\n    .dataframe tbody tr th {\n        vertical-align: top;\n    }\n\n    .dataframe thead th {\n        text-align: right;\n    }\n</style>\n<table border=\"1\" class=\"dataframe\">\n  <thead>\n    <tr style=\"text-align: right;\">\n      <th></th>\n      <th>token</th>\n      <th>pos</th>\n      <th>stem</th>\n    </tr>\n  </thead>\n  <tbody>\n    <tr>\n      <th>0</th>\n      <td></td>\n      <td></td>\n      <td>NaN</td>\n    </tr>\n    <tr>\n      <th>1</th>\n      <td>The</td>\n      <td>DT</td>\n      <td></td>\n    </tr>\n    <tr>\n      <th>2</th>\n      <td>economy</td>\n      <td>NN</td>\n      <td>the</td>\n    </tr>\n  </tbody>\n</table>\n</div>"
     },
     "metadata": {},
     "output_type": "execute_result",
     "execution_count": 10
    }
   ],
   "source": [
    "feature_in = training.iloc[:, :2]\n",
    "feature_in['stem'] = feature_in['token'].apply(ps.stem).shift(1)\n",
    "# feature_in['stem_ps'] = feature_in\n",
    "# feature_in['stem-bi'] = feature_in['stem'].shift(1)\n",
    "# feature_in['stem-bi'] = feature_in[['stem-bi', 'stem']]\n",
    "check_point = feature_in.copy()\n",
    "feature_in.head(3)"
   ],
   "metadata": {
    "collapsed": false,
    "pycharm": {
     "name": "#%%\n",
     "is_executing": false
    }
   }
  },
  {
   "cell_type": "code",
   "execution_count": 11,
   "outputs": [
    {
     "name": "stdout",
     "text": [
      "['token', 'pos', 'stem']\n"
     ],
     "output_type": "stream"
    },
    {
     "data": {
      "text/plain": "          token  pos        stem\n0                            NaN\n1           The   DT            \n2       economy   NN         the\n3            's  POS     economi\n4   temperature   NN          's\n5          will   MD  temperatur\n6            be   VB        will\n7         taken  VBN          be\n8          from   IN       taken\n9       several   JJ        from\n10      vantage   NN       sever\n11       points  NNS      vantag\n12         this   DT       point\n13         week   NN         thi\n14            ,    ,        week",
      "text/html": "<div>\n<style scoped>\n    .dataframe tbody tr th:only-of-type {\n        vertical-align: middle;\n    }\n\n    .dataframe tbody tr th {\n        vertical-align: top;\n    }\n\n    .dataframe thead th {\n        text-align: right;\n    }\n</style>\n<table border=\"1\" class=\"dataframe\">\n  <thead>\n    <tr style=\"text-align: right;\">\n      <th></th>\n      <th>token</th>\n      <th>pos</th>\n      <th>stem</th>\n    </tr>\n  </thead>\n  <tbody>\n    <tr>\n      <th>0</th>\n      <td></td>\n      <td></td>\n      <td>NaN</td>\n    </tr>\n    <tr>\n      <th>1</th>\n      <td>The</td>\n      <td>DT</td>\n      <td></td>\n    </tr>\n    <tr>\n      <th>2</th>\n      <td>economy</td>\n      <td>NN</td>\n      <td>the</td>\n    </tr>\n    <tr>\n      <th>3</th>\n      <td>'s</td>\n      <td>POS</td>\n      <td>economi</td>\n    </tr>\n    <tr>\n      <th>4</th>\n      <td>temperature</td>\n      <td>NN</td>\n      <td>'s</td>\n    </tr>\n    <tr>\n      <th>5</th>\n      <td>will</td>\n      <td>MD</td>\n      <td>temperatur</td>\n    </tr>\n    <tr>\n      <th>6</th>\n      <td>be</td>\n      <td>VB</td>\n      <td>will</td>\n    </tr>\n    <tr>\n      <th>7</th>\n      <td>taken</td>\n      <td>VBN</td>\n      <td>be</td>\n    </tr>\n    <tr>\n      <th>8</th>\n      <td>from</td>\n      <td>IN</td>\n      <td>taken</td>\n    </tr>\n    <tr>\n      <th>9</th>\n      <td>several</td>\n      <td>JJ</td>\n      <td>from</td>\n    </tr>\n    <tr>\n      <th>10</th>\n      <td>vantage</td>\n      <td>NN</td>\n      <td>sever</td>\n    </tr>\n    <tr>\n      <th>11</th>\n      <td>points</td>\n      <td>NNS</td>\n      <td>vantag</td>\n    </tr>\n    <tr>\n      <th>12</th>\n      <td>this</td>\n      <td>DT</td>\n      <td>point</td>\n    </tr>\n    <tr>\n      <th>13</th>\n      <td>week</td>\n      <td>NN</td>\n      <td>thi</td>\n    </tr>\n    <tr>\n      <th>14</th>\n      <td>,</td>\n      <td>,</td>\n      <td>week</td>\n    </tr>\n  </tbody>\n</table>\n</div>"
     },
     "metadata": {},
     "output_type": "execute_result",
     "execution_count": 11
    }
   ],
   "source": [
    "headers: List[str] = check_point.columns.tolist()[:3]\n",
    "print(headers)\n",
    "check_point.head(15)"
   ],
   "metadata": {
    "collapsed": false,
    "pycharm": {
     "name": "#%%\n",
     "is_executing": false
    }
   }
  },
  {
   "cell_type": "code",
   "execution_count": 12,
   "outputs": [
    {
     "data": {
      "text/plain": "     token pos stem pos_1 pos_-1 pos_bi-1 pos_bi+1        tri\n0               NaN    DT     @@      DT+      +@@     DT++@@\n1      The  DT         NN           NN+DT      DT+     NN+DT+\n2  economy  NN  the   POS     DT   POS+NN    NN+DT  POS+NN+DT",
      "text/html": "<div>\n<style scoped>\n    .dataframe tbody tr th:only-of-type {\n        vertical-align: middle;\n    }\n\n    .dataframe tbody tr th {\n        vertical-align: top;\n    }\n\n    .dataframe thead th {\n        text-align: right;\n    }\n</style>\n<table border=\"1\" class=\"dataframe\">\n  <thead>\n    <tr style=\"text-align: right;\">\n      <th></th>\n      <th>token</th>\n      <th>pos</th>\n      <th>stem</th>\n      <th>pos_1</th>\n      <th>pos_-1</th>\n      <th>pos_bi-1</th>\n      <th>pos_bi+1</th>\n      <th>tri</th>\n    </tr>\n  </thead>\n  <tbody>\n    <tr>\n      <th>0</th>\n      <td></td>\n      <td></td>\n      <td>NaN</td>\n      <td>DT</td>\n      <td>@@</td>\n      <td>DT+</td>\n      <td>+@@</td>\n      <td>DT++@@</td>\n    </tr>\n    <tr>\n      <th>1</th>\n      <td>The</td>\n      <td>DT</td>\n      <td></td>\n      <td>NN</td>\n      <td></td>\n      <td>NN+DT</td>\n      <td>DT+</td>\n      <td>NN+DT+</td>\n    </tr>\n    <tr>\n      <th>2</th>\n      <td>economy</td>\n      <td>NN</td>\n      <td>the</td>\n      <td>POS</td>\n      <td>DT</td>\n      <td>POS+NN</td>\n      <td>NN+DT</td>\n      <td>POS+NN+DT</td>\n    </tr>\n  </tbody>\n</table>\n</div>"
     },
     "metadata": {},
     "output_type": "execute_result",
     "execution_count": 12
    }
   ],
   "source": [
    "feature_in = check_point.copy()\n",
    "MEMORY_SPAN = 1\n",
    "headers = ['pos']\n",
    "for i in range(MEMORY_SPAN):\n",
    "    for header in headers:\n",
    "        n_headers = [header + '_' + str(i + 1), header + '_-' + str(i + 1)]\n",
    "        feature_in[n_headers[0]] = check_point[header].shift(-i - 1, fill_value='@@')\n",
    "        feature_in[n_headers[1]] = check_point[header].shift(+i + 1, fill_value='@@')\n",
    "        feature_in[header + '_bi-' + str(i + 1)] = feature_in[[n_headers[0], header]]\\\n",
    "            .apply(lambda x: '+'.join(x), axis=1)\n",
    "        feature_in[header + '_bi+' + str(i + 1)] = feature_in[[header, n_headers[1]]]\\\n",
    "            .apply(lambda x: '+'.join(x), axis=1)\n",
    "        feature_in['tri'] = feature_in[[n_headers[0], header, n_headers[1]]].apply(lambda x: '+'.join(x), axis=1)\n",
    "feature_in.head(3)     "
   ],
   "metadata": {
    "collapsed": false,
    "pycharm": {
     "name": "#%%\n",
     "is_executing": false
    }
   }
  },
  {
   "cell_type": "code",
   "execution_count": 13,
   "outputs": [
    {
     "data": {
      "text/plain": "     token pos stem pos_1 pos_-1 pos_bi-1 pos_bi+1        tri  bio - 1\n0               NaN    DT     @@      DT+      +@@     DT++@@  prev=@@\n1      The  DT         NN           NN+DT      DT+     NN+DT+  prev=@@\n2  economy  NN  the   POS     DT   POS+NN    NN+DT  POS+NN+DT  prev=@@",
      "text/html": "<div>\n<style scoped>\n    .dataframe tbody tr th:only-of-type {\n        vertical-align: middle;\n    }\n\n    .dataframe tbody tr th {\n        vertical-align: top;\n    }\n\n    .dataframe thead th {\n        text-align: right;\n    }\n</style>\n<table border=\"1\" class=\"dataframe\">\n  <thead>\n    <tr style=\"text-align: right;\">\n      <th></th>\n      <th>token</th>\n      <th>pos</th>\n      <th>stem</th>\n      <th>pos_1</th>\n      <th>pos_-1</th>\n      <th>pos_bi-1</th>\n      <th>pos_bi+1</th>\n      <th>tri</th>\n      <th>bio - 1</th>\n    </tr>\n  </thead>\n  <tbody>\n    <tr>\n      <th>0</th>\n      <td></td>\n      <td></td>\n      <td>NaN</td>\n      <td>DT</td>\n      <td>@@</td>\n      <td>DT+</td>\n      <td>+@@</td>\n      <td>DT++@@</td>\n      <td>prev=@@</td>\n    </tr>\n    <tr>\n      <th>1</th>\n      <td>The</td>\n      <td>DT</td>\n      <td></td>\n      <td>NN</td>\n      <td></td>\n      <td>NN+DT</td>\n      <td>DT+</td>\n      <td>NN+DT+</td>\n      <td>prev=@@</td>\n    </tr>\n    <tr>\n      <th>2</th>\n      <td>economy</td>\n      <td>NN</td>\n      <td>the</td>\n      <td>POS</td>\n      <td>DT</td>\n      <td>POS+NN</td>\n      <td>NN+DT</td>\n      <td>POS+NN+DT</td>\n      <td>prev=@@</td>\n    </tr>\n  </tbody>\n</table>\n</div>"
     },
     "metadata": {},
     "output_type": "execute_result",
     "execution_count": 13
    }
   ],
   "source": [
    "# feature_in['bio - 1'] = training['bio'].shift(1, fill_value='')\n",
    "feature_in['bio - 1'] = 'prev=@@'\n",
    "if CURRENT_PHASE == 'training':\n",
    "    feature_in['bio'] = training['bio']\n",
    "feature_in.head(3)"
   ],
   "metadata": {
    "collapsed": false,
    "pycharm": {
     "name": "#%%\n",
     "is_executing": false
    }
   }
  },
  {
   "cell_type": "code",
   "execution_count": 14,
   "outputs": [
    {
     "data": {
      "text/plain": "             token  pos     stem pos_1 pos_-1 pos_bi-1 pos_bi+1        tri  \\\n0                                                                            \n1              The   DT             NN           NN+DT      DT+     NN+DT+   \n2          economy   NN      the   POS     DT   POS+NN    NN+DT  POS+NN+DT   \n3               's  POS  economi    NN     NN   NN+POS   POS+NN  NN+POS+NN   \n4      temperature   NN       's    MD    POS    MD+NN   NN+POS  MD+NN+POS   \n...            ...  ...      ...   ...    ...      ...      ...        ...   \n34195         here   RB     them    IN    PRP    IN+RB   RB+PRP  IN+RB+PRP   \n34196         with   IN     here   PRP     RB   PRP+IN    IN+RB  PRP+IN+RB   \n34197           us  PRP     with     .     IN    .+PRP   PRP+IN   .+PRP+IN   \n34198            .    .       us          PRP       +.    .+PRP     +.+PRP   \n34199                                                                        \n\n       bio - 1  \n0               \n1      prev=@@  \n2      prev=@@  \n3      prev=@@  \n4      prev=@@  \n...        ...  \n34195  prev=@@  \n34196  prev=@@  \n34197  prev=@@  \n34198  prev=@@  \n34199           \n\n[34200 rows x 9 columns]",
      "text/html": "<div>\n<style scoped>\n    .dataframe tbody tr th:only-of-type {\n        vertical-align: middle;\n    }\n\n    .dataframe tbody tr th {\n        vertical-align: top;\n    }\n\n    .dataframe thead th {\n        text-align: right;\n    }\n</style>\n<table border=\"1\" class=\"dataframe\">\n  <thead>\n    <tr style=\"text-align: right;\">\n      <th></th>\n      <th>token</th>\n      <th>pos</th>\n      <th>stem</th>\n      <th>pos_1</th>\n      <th>pos_-1</th>\n      <th>pos_bi-1</th>\n      <th>pos_bi+1</th>\n      <th>tri</th>\n      <th>bio - 1</th>\n    </tr>\n  </thead>\n  <tbody>\n    <tr>\n      <th>0</th>\n      <td></td>\n      <td></td>\n      <td></td>\n      <td></td>\n      <td></td>\n      <td></td>\n      <td></td>\n      <td></td>\n      <td></td>\n    </tr>\n    <tr>\n      <th>1</th>\n      <td>The</td>\n      <td>DT</td>\n      <td></td>\n      <td>NN</td>\n      <td></td>\n      <td>NN+DT</td>\n      <td>DT+</td>\n      <td>NN+DT+</td>\n      <td>prev=@@</td>\n    </tr>\n    <tr>\n      <th>2</th>\n      <td>economy</td>\n      <td>NN</td>\n      <td>the</td>\n      <td>POS</td>\n      <td>DT</td>\n      <td>POS+NN</td>\n      <td>NN+DT</td>\n      <td>POS+NN+DT</td>\n      <td>prev=@@</td>\n    </tr>\n    <tr>\n      <th>3</th>\n      <td>'s</td>\n      <td>POS</td>\n      <td>economi</td>\n      <td>NN</td>\n      <td>NN</td>\n      <td>NN+POS</td>\n      <td>POS+NN</td>\n      <td>NN+POS+NN</td>\n      <td>prev=@@</td>\n    </tr>\n    <tr>\n      <th>4</th>\n      <td>temperature</td>\n      <td>NN</td>\n      <td>'s</td>\n      <td>MD</td>\n      <td>POS</td>\n      <td>MD+NN</td>\n      <td>NN+POS</td>\n      <td>MD+NN+POS</td>\n      <td>prev=@@</td>\n    </tr>\n    <tr>\n      <th>...</th>\n      <td>...</td>\n      <td>...</td>\n      <td>...</td>\n      <td>...</td>\n      <td>...</td>\n      <td>...</td>\n      <td>...</td>\n      <td>...</td>\n      <td>...</td>\n    </tr>\n    <tr>\n      <th>34195</th>\n      <td>here</td>\n      <td>RB</td>\n      <td>them</td>\n      <td>IN</td>\n      <td>PRP</td>\n      <td>IN+RB</td>\n      <td>RB+PRP</td>\n      <td>IN+RB+PRP</td>\n      <td>prev=@@</td>\n    </tr>\n    <tr>\n      <th>34196</th>\n      <td>with</td>\n      <td>IN</td>\n      <td>here</td>\n      <td>PRP</td>\n      <td>RB</td>\n      <td>PRP+IN</td>\n      <td>IN+RB</td>\n      <td>PRP+IN+RB</td>\n      <td>prev=@@</td>\n    </tr>\n    <tr>\n      <th>34197</th>\n      <td>us</td>\n      <td>PRP</td>\n      <td>with</td>\n      <td>.</td>\n      <td>IN</td>\n      <td>.+PRP</td>\n      <td>PRP+IN</td>\n      <td>.+PRP+IN</td>\n      <td>prev=@@</td>\n    </tr>\n    <tr>\n      <th>34198</th>\n      <td>.</td>\n      <td>.</td>\n      <td>us</td>\n      <td></td>\n      <td>PRP</td>\n      <td>+.</td>\n      <td>.+PRP</td>\n      <td>+.+PRP</td>\n      <td>prev=@@</td>\n    </tr>\n    <tr>\n      <th>34199</th>\n      <td></td>\n      <td></td>\n      <td></td>\n      <td></td>\n      <td></td>\n      <td></td>\n      <td></td>\n      <td></td>\n      <td></td>\n    </tr>\n  </tbody>\n</table>\n<p>34200 rows × 9 columns</p>\n</div>"
     },
     "metadata": {},
     "output_type": "execute_result",
     "execution_count": 14
    }
   ],
   "source": [
    "feature_in[feature_in['token'] == ''] = ''\n",
    "feature_in"
   ],
   "metadata": {
    "collapsed": false,
    "pycharm": {
     "name": "#%%\n",
     "is_executing": false
    }
   }
  },
  {
   "cell_type": "code",
   "execution_count": 9,
   "outputs": [
    {
     "name": "stdout",
     "text": [
      "saved file test.feature\n"
     ],
     "output_type": "stream"
    }
   ],
   "source": [
    "feature_in.to_csv(PHASE[CURRENT_PHASE]['out_name'], sep='\\t', header=False, index=False)\n",
    "print('saved file ' + PHASE[CURRENT_PHASE]['out_name'])\n"
   ],
   "metadata": {
    "collapsed": false,
    "pycharm": {
     "name": "#%%\n",
     "is_executing": false
    }
   }
  },
  {
   "cell_type": "markdown",
   "source": [
    "Run this manually:\n",
    "```bash\n",
    "sed -i 's/\\t\\t\\t\\t*$//g' *.feature\n",
    "```\n"
   ],
   "metadata": {
    "collapsed": false
   }
  }
 ],
 "metadata": {
  "kernelspec": {
   "display_name": "Python 3",
   "language": "python",
   "name": "python3"
  },
  "language_info": {
   "codemirror_mode": {
    "name": "ipython",
    "version": 2
   },
   "file_extension": ".py",
   "mimetype": "text/x-python",
   "name": "python",
   "nbconvert_exporter": "python",
   "pygments_lexer": "ipython2",
   "version": "2.7.6"
  },
  "pycharm": {
   "stem_cell": {
    "cell_type": "raw",
    "source": [],
    "metadata": {
     "collapsed": false
    }
   }
  }
 },
 "nbformat": 4,
 "nbformat_minor": 0
}